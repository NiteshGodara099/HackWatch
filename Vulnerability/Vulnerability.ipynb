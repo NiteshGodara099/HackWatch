{
 "cells": [
  {
   "cell_type": "code",
   "execution_count": 4,
   "id": "04cc1da2-ea0d-4e76-9127-bb5a8aaf3afd",
   "metadata": {},
   "outputs": [],
   "source": [
    "url = \"https://www.hackthebox.com/\""
   ]
  },
  {
   "cell_type": "code",
   "execution_count": 5,
   "id": "d68aec1c-f5e0-4c06-8ade-7732fc1b1ce2",
   "metadata": {},
   "outputs": [],
   "source": [
    "import requests\n",
    "\n",
    "def scan_target(url):\n",
    "    print(f\"Scanning target: {url}\")\n",
    "    try:\n",
    "        response = requests.get(url, timeout=5)\n",
    "        if response.status_code == 200:\n",
    "            print(\"Target reachable!\")\n",
    "        else:\n",
    "            print(\"Failed to reach the target.\")\n",
    "    except requests.RequestException as e:\n",
    "        print(\"Error:\", e)\n"
   ]
  },
  {
   "cell_type": "code",
   "execution_count": 6,
   "id": "52034ceb-fe00-481c-a10c-04a5734cc305",
   "metadata": {},
   "outputs": [],
   "source": [
    "def test_sql_injection(url):\n",
    "    sql_payloads = [\"' OR '1'='1\", \"' UNION SELECT NULL--\", \"' OR 1=1 --\"]\n",
    "    for payload in sql_payloads:\n",
    "        test_url = f\"{url}?id={payload}\"\n",
    "        try:\n",
    "            response = requests.get(test_url, timeout=5)\n",
    "            if \"error\" in response.text.lower() or \"syntax\" in response.text.lower():\n",
    "                print(f\"Possible SQL Injection vulnerability found at {test_url}\")\n",
    "        except requests.RequestException as e:\n",
    "            print(\"Error:\", e)\n"
   ]
  },
  {
   "cell_type": "code",
   "execution_count": 7,
   "id": "809495b9-df28-44ca-a792-9a703ef9e344",
   "metadata": {},
   "outputs": [],
   "source": [
    "def test_xss(url):\n",
    "    xss_payloads = [\"<script>alert(1)</script>\", \"<img src=x onerror=alert(1)>\"]\n",
    "    for payload in xss_payloads:\n",
    "        test_url = f\"{url}?search={payload}\"\n",
    "        try:\n",
    "            response = requests.get(test_url, timeout=5)\n",
    "            if payload in response.text:\n",
    "                print(f\"Possible XSS vulnerability found at {test_url}\")\n",
    "        except requests.RequestException as e:\n",
    "            print(\"Error:\", e)\n"
   ]
  },
  {
   "cell_type": "code",
   "execution_count": 8,
   "id": "67e32371-32c5-4498-abb0-6af2beba99e2",
   "metadata": {},
   "outputs": [],
   "source": [
    "def check_security_headers(url):\n",
    "    headers_to_check = [\"Content-Security-Policy\", \"X-Content-Type-Options\", \"Strict-Transport-Security\"]\n",
    "    try:\n",
    "        response = requests.get(url, timeout=5)\n",
    "        for header in headers_to_check:\n",
    "            if header not in response.headers:\n",
    "                print(f\"Missing security header: {header}\")\n",
    "    except requests.RequestException as e:\n",
    "        print(\"Error:\", e)\n"
   ]
  },
  {
   "cell_type": "code",
   "execution_count": 9,
   "id": "49006105-c553-42a0-8f01-c8f0ef13a532",
   "metadata": {},
   "outputs": [],
   "source": [
    "def run_vulnerability_scan(url):\n",
    "    print(\"Starting vulnerability scan...\")\n",
    "    scan_target(url)\n",
    "    test_sql_injection(url)\n",
    "    test_xss(url)\n",
    "    check_security_headers(url)\n",
    "    print(\"Vulnerability scan complete.\")\n"
   ]
  },
  {
   "cell_type": "code",
   "execution_count": 11,
   "id": "6d8e9509-28c7-4b44-b0fa-60f5f4841079",
   "metadata": {},
   "outputs": [
    {
     "name": "stdin",
     "output_type": "stream",
     "text": [
      "Enter the target URL:  https://tryhackme.com/\n"
     ]
    },
    {
     "name": "stdout",
     "output_type": "stream",
     "text": [
      "Starting vulnerability scan...\n",
      "Scanning target: https://tryhackme.com/\n",
      "Target reachable!\n",
      "Possible SQL Injection vulnerability found at https://tryhackme.com/?id=' OR '1'='1\n",
      "Possible SQL Injection vulnerability found at https://tryhackme.com/?id=' UNION SELECT NULL--\n",
      "Possible SQL Injection vulnerability found at https://tryhackme.com/?id=' OR 1=1 --\n",
      "Missing security header: Content-Security-Policy\n",
      "Missing security header: X-Content-Type-Options\n",
      "Missing security header: Strict-Transport-Security\n",
      "Vulnerability scan complete.\n"
     ]
    }
   ],
   "source": [
    "if __name__ == \"__main__\":\n",
    "    target_url = input(\"Enter the target URL: \")\n",
    "    run_vulnerability_scan(target_url)\n",
    "\n"
   ]
  },
  {
   "cell_type": "code",
   "execution_count": 15,
   "id": "1d378c17-6b2d-46ca-b0fd-e281831a646c",
   "metadata": {},
   "outputs": [
    {
     "name": "stdout",
     "output_type": "stream",
     "text": [
      "Starting scan on target: https://tryhackme.com/\n",
      "Testing for SQL Injection vulnerabilities...\n",
      "Possible SQL Injection vulnerability found at https://tryhackme.com/?id=%27+OR+%271%27%3D%271 with payload: ' OR '1'='1\n",
      "Possible SQL Injection vulnerability found at https://tryhackme.com/?id=%27+UNION+SELECT+NULL-- with payload: ' UNION SELECT NULL--\n",
      "Possible SQL Injection vulnerability found at https://tryhackme.com/?id=%27+OR+1%3D1+-- with payload: ' OR 1=1 --\n",
      "Testing for XSS vulnerabilities...\n",
      "No XSS vulnerabilities found.\n",
      "Testing for LDAP Injection vulnerabilities...\n",
      "Possible LDAP Injection vulnerability found at https://tryhackme.com/?username=%2A with payload: *\n",
      "Possible LDAP Injection vulnerability found at https://tryhackme.com/?username=%29%28%7C%28user%3D%2A%29%29 with payload: )(|(user=*))\n",
      "Possible LDAP Injection vulnerability found at https://tryhackme.com/?username=%29%28password%3D%2A%29 with payload: )(password=*)\n",
      "Checking for missing security headers...\n",
      "Missing security headers: Content-Security-Policy, X-Content-Type-Options, Strict-Transport-Security\n"
     ]
    }
   ],
   "source": [
    "import requests\n",
    "from bs4 import BeautifulSoup\n",
    "from reportlab.lib.pagesizes import letter\n",
    "from reportlab.pdfgen import canvas\n",
    "from urllib.parse import urlparse\n",
    "\n",
    "# Define payloads for testing vulnerabilities\n",
    "sql_injection_payloads = [\n",
    "    \"' OR '1'='1\",\n",
    "    \"' UNION SELECT NULL--\",\n",
    "    \"' OR 1=1 --\"\n",
    "]\n",
    "xss_payloads = [\n",
    "    \"<script>alert('XSS')</script>\",\n",
    "    \"\\\"><img src=x onerror=alert(1)>\",\n",
    "    \"<svg/onload=alert('XSS')>\"\n",
    "]\n",
    "ldap_payloads = [\n",
    "    \"*\", \n",
    "    \")(|(user=*))\", \n",
    "    \")(password=*)\"\n",
    "]\n",
    "flagged_keywords = [\"malware\", \"attack\", \"breach\", \"phishing\"]\n",
    "\n",
    "# Step 1: Fetch metadata from a URL\n",
    "def fetch_metadata(url):\n",
    "    try:\n",
    "        response = requests.get(url)\n",
    "        response.raise_for_status()\n",
    "        soup = BeautifulSoup(response.text, \"html.parser\")\n",
    "        title = soup.title.string if soup.title else \"No title\"\n",
    "        description_tag = soup.find(\"meta\", attrs={\"name\": \"description\"})\n",
    "        description = description_tag[\"content\"] if description_tag else \"No description\"\n",
    "        keywords_tag = soup.find(\"meta\", attrs={\"name\": \"keywords\"})\n",
    "        keywords = keywords_tag[\"content\"] if keywords_tag else \"N/A\"\n",
    "        return {\"title\": title, \"description\": description, \"keywords\": keywords}\n",
    "    except requests.exceptions.RequestException as e:\n",
    "        print(f\"Error fetching URL: {e}\")\n",
    "        return None\n",
    "\n",
    "# Step 2: Analyze metadata for flagged keywords\n",
    "def analyze_data(metadata):\n",
    "    if not metadata:\n",
    "        return []\n",
    "    flags = [kw for kw in flagged_keywords if kw in metadata[\"description\"].lower()]\n",
    "    return flags\n",
    "\n",
    "# Vulnerability checks\n",
    "def test_sql_injection(url):\n",
    "    print(\"Testing for SQL Injection vulnerabilities...\")\n",
    "    vulnerable = False\n",
    "    for payload in sql_injection_payloads:\n",
    "        params = {'id': payload}\n",
    "        response = requests.get(url, params=params)\n",
    "        if \"error\" in response.text.lower():\n",
    "            print(f\"Possible SQL Injection vulnerability found at {response.url} with payload: {payload}\")\n",
    "            vulnerable = True\n",
    "    if not vulnerable:\n",
    "        print(\"No SQL Injection vulnerabilities found.\")\n",
    "\n",
    "def test_xss(url):\n",
    "    print(\"Testing for XSS vulnerabilities...\")\n",
    "    vulnerable = False\n",
    "    for payload in xss_payloads:\n",
    "        params = {'search': payload}\n",
    "        response = requests.get(url, params=params)\n",
    "        if payload in response.text:\n",
    "            print(f\"Possible XSS vulnerability found at {response.url} with payload: {payload}\")\n",
    "            vulnerable = True\n",
    "    if not vulnerable:\n",
    "        print(\"No XSS vulnerabilities found.\")\n",
    "\n",
    "def test_ldap_injection(url):\n",
    "    print(\"Testing for LDAP Injection vulnerabilities...\")\n",
    "    vulnerable = False\n",
    "    for payload in ldap_payloads:\n",
    "        params = {'username': payload}\n",
    "        response = requests.get(url, params=params)\n",
    "        if \"error\" in response.text.lower() or \"invalid\" in response.text.lower():\n",
    "            print(f\"Possible LDAP Injection vulnerability found at {response.url} with payload: {payload}\")\n",
    "            vulnerable = True\n",
    "    if not vulnerable:\n",
    "        print(\"No LDAP Injection vulnerabilities found.\")\n",
    "\n",
    "def check_security_headers(url):\n",
    "    print(\"Checking for missing security headers...\")\n",
    "    response = requests.get(url)\n",
    "    missing_headers = []\n",
    "    if 'Content-Security-Policy' not in response.headers:\n",
    "        missing_headers.append('Content-Security-Policy')\n",
    "    if 'X-Content-Type-Options' not in response.headers:\n",
    "        missing_headers.append('X-Content-Type-Options')\n",
    "    if 'Strict-Transport-Security' not in response.headers:\n",
    "        missing_headers.append('Strict-Transport-Security')\n",
    "    if missing_headers:\n",
    "        print(\"Missing security headers:\", \", \".join(missing_headers))\n",
    "    else:\n",
    "        print(\"All recommended security headers are present.\")\n",
    "    return missing_headers\n",
    "    \n",
    "# Main function\n",
    "def scan_website(url):\n",
    "    print(f\"Starting scan on target: {url}\")\n",
    "    metadata = fetch_metadata(url)\n",
    "    flagged_keywords = analyze_data(metadata)\n",
    "    sql_vulnerable = test_sql_injection(url)\n",
    "    xss_vulnerable = test_xss(url)\n",
    "    ldap_vulnerable = test_ldap_injection(url)\n",
    "    missing_headers = check_security_headers(url)\n",
    "    parsed_url = urlparse(url)\n",
    "\n",
    "\n",
    "# Example URL to test\n",
    "target_url = \"https://tryhackme.com/\"  # Replace with a real URL\n",
    "scan_website(target_url)\n"
   ]
  },
  {
   "cell_type": "code",
   "execution_count": null,
   "id": "bb167ac6-3279-488b-b011-4121825e1cd2",
   "metadata": {},
   "outputs": [],
   "source": []
  }
 ],
 "metadata": {
  "kernelspec": {
   "display_name": "Python 3 (ipykernel)",
   "language": "python",
   "name": "python3"
  },
  "language_info": {
   "codemirror_mode": {
    "name": "ipython",
    "version": 3
   },
   "file_extension": ".py",
   "mimetype": "text/x-python",
   "name": "python",
   "nbconvert_exporter": "python",
   "pygments_lexer": "ipython3",
   "version": "3.13.0"
  }
 },
 "nbformat": 4,
 "nbformat_minor": 5
}
